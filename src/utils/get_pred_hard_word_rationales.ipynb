{
 "cells": [
  {
   "cell_type": "code",
   "execution_count": 8,
   "metadata": {},
   "outputs": [],
   "source": [
    "import json\n",
    "\n",
    "# new_post_id_divisions\n",
    "with open('/home/jinmyeong/code/hts/classifier/Data/post_id_divisions.json', 'r') as fp:\n",
    "    post_id_division = json.load(fp)\n",
    "\n",
    "file_path = '/home/jinmyeong/code/hts/classifier/Data/audio_rationales_data.json'\n",
    "with open(file_path, \"r\") as f:\n",
    "    audio_rationales_data = json.load(f)\n",
    "\n",
    "audio_key_list = list(audio_rationales_data.keys())\n",
    "\n",
    "for key in post_id_division:\n",
    "    id_list = post_id_division[key]\n",
    "    intersection = set(id_list) & set(audio_key_list)\n",
    "    post_id_division[key] = list(intersection)\n",
    "\n",
    "file_path = '/home/jinmyeong/code/hts/classifier/Data/new_post_id_divisions.json'\n",
    "with open(file_path, \"w\") as f:\n",
    "    json.dump(post_id_division, f) "
   ]
  },
  {
   "cell_type": "code",
   "execution_count": 2,
   "metadata": {},
   "outputs": [
    {
     "name": "stdout",
     "output_type": "stream",
     "text": [
      "17733\n"
     ]
    }
   ],
   "source": [
    "import json\n",
    "\n",
    "file_path = '/home/jinmyeong/code/hts/classifier/Data/new_post_id_divisions.json'\n",
    "with open(file_path, \"r\") as f:\n",
    "    new_post_id_divisions = json.load(f) \n",
    "\n",
    "# dataset.json <- ASR text\n",
    "with open('/home/jinmyeong/code/hts/ASR/Data/ASR/whisperX_ASR_transcription_v4-HateSpeech-all-multispeaker.json', 'r') as fp:\n",
    "    transcript_dict = json.load(fp)\n",
    "\n",
    "with open('/home/jinmyeong/code/hts/classifier/Data/dataset.json', 'r') as fp:\n",
    "    dataset_dict = json.load(fp)\n",
    "\n",
    "with open('/home/jinmyeong/code/hts/classifier/Data/transcript_rationales.json', 'r') as fp: \n",
    "    transcript_rationales_dict = json.load(fp)\n",
    "\n",
    "all_id_list = new_post_id_divisions['train'] + new_post_id_divisions['val'] + new_post_id_divisions['test']\n",
    "print(len(all_id_list))\n",
    "for id in all_id_list:\n",
    "    transcript = transcript_dict[id][0]['text'][1:]\n",
    "    transcript_word_list = [word['word'] for word in transcript_dict[id][0]['words']]\n",
    "\n",
    "    transcript_rationales = transcript_rationales_dict[id]\n",
    "\n",
    "    dataset_dict[id]['post_tokens'] = transcript_word_list\n",
    "    dataset_dict[id]['rationales'] = transcript_rationales\n",
    "\n",
    "file_path = '/home/jinmyeong/code/hts/classifier/Data/new_dataset.json'\n",
    "with open(file_path, \"w\") as f:\n",
    "    json.dump(dataset_dict, f)   "
   ]
  }
 ],
 "metadata": {
  "kernelspec": {
   "display_name": "hts",
   "language": "python",
   "name": "python3"
  },
  "language_info": {
   "codemirror_mode": {
    "name": "ipython",
    "version": 3
   },
   "file_extension": ".py",
   "mimetype": "text/x-python",
   "name": "python",
   "nbconvert_exporter": "python",
   "pygments_lexer": "ipython3",
   "version": "3.8.18"
  },
  "orig_nbformat": 4
 },
 "nbformat": 4,
 "nbformat_minor": 2
}
